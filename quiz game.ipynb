{
 "cells": [
  {
   "cell_type": "code",
   "execution_count": null,
   "id": "26293bd7",
   "metadata": {},
   "outputs": [],
   "source": [
    "print(\"welcome to my computer quiz\")\n",
    "playing = input(\" Do you want to start the  game  ? \\n  \")\n",
    "if playing not in [\"yes\" , \"y\",\"yy\",\"ye\"]  :\n",
    "    quit()\n",
    "else : \n",
    "    print(\"ok ! let start :) \\n\")\n",
    "    s=0 \n",
    "    th1=\"Science Trivia Questions\"\n",
    "    th2=\"Animal Trivia Questions\"\n",
    "    th3=\"Geography Trivia Questions\"\n",
    "    th3=\"Kid-Friendly Trivia Questions\"\n",
    "    th4=\"Sports Trivia Questions\"\n",
    "    th5=\"Food and Drink Trivia Questions\"\n",
    "    #question 1 \n",
    "    q1=\"In what type of matter are atoms most tightly packed?\"\n",
    "    r1=\"solids\"\n",
    "    q11= \"What is the opposite of matter?\"\n",
    "    r11=\"antimatter\"\n",
    "    #question 2 \n",
    "    q2=\"What is the loudest animal on Earth?\"\n",
    "    r2=\"sperm Whale\"\n",
    "    q22=\"How many hearts does an octopus have?\"\n",
    "    r22=\"3\"\n",
    "\n",
    "     \n",
    "    them={th1:{q1:r1,q2:r11},th2:{q2:r2,q22:r22}}\n",
    "    k=0; s=0\n",
    "    for i in them :\n",
    "        for j in them[i] : \n",
    "            k+=1\n",
    "            print( i )\n",
    "            r=input(\"question \"+ j +\"\\n\").lower()\n",
    "            print(r)\n",
    "            if  them[i][j] == r :\n",
    "               \n",
    "                s+=1\n",
    "                print(\"correct\\n\") \n",
    "                \n",
    "            else :\n",
    "                print(\"false\")\n",
    "                continue \n",
    "\n",
    "                \n",
    "print (\"you have {}  / {}\".format(s,k))\n",
    "                \n",
    "                \n",
    "                \n",
    "                \n",
    "                \n",
    "                \n",
    "                \n",
    "          \n",
    "        \n",
    "        \n",
    "        \n",
    "    \n",
    "    \n",
    "    \n",
    "    \n",
    "    \n",
    "    \n",
    "    \n",
    "    \n",
    "    \n",
    "    \n",
    "    \n",
    "\n"
   ]
  },
  {
   "cell_type": "code",
   "execution_count": 1,
   "id": "f0593d49",
   "metadata": {},
   "outputs": [
    {
     "name": "stdout",
     "output_type": "stream",
     "text": [
      "3\n"
     ]
    }
   ],
   "source": [
    "print(\"3\".lower())"
   ]
  },
  {
   "cell_type": "code",
   "execution_count": 49,
   "id": "af4364a8",
   "metadata": {},
   "outputs": [
    {
     "name": "stdout",
     "output_type": "stream",
     "text": [
      "iheb\n"
     ]
    }
   ],
   "source": [
    "print(\"Iheb\".lower())"
   ]
  },
  {
   "cell_type": "code",
   "execution_count": null,
   "id": "624261ea",
   "metadata": {},
   "outputs": [],
   "source": []
  }
 ],
 "metadata": {
  "kernelspec": {
   "display_name": "Python 3 (ipykernel)",
   "language": "python",
   "name": "python3"
  },
  "language_info": {
   "codemirror_mode": {
    "name": "ipython",
    "version": 3
   },
   "file_extension": ".py",
   "mimetype": "text/x-python",
   "name": "python",
   "nbconvert_exporter": "python",
   "pygments_lexer": "ipython3",
   "version": "3.9.7"
  }
 },
 "nbformat": 4,
 "nbformat_minor": 5
}
